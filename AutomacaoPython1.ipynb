{
 "cells": [
  {
   "cell_type": "markdown",
   "id": "34cf2a69",
   "metadata": {},
   "source": [
    "# Automação Web com Python + Selenium\n",
    "\n",
    "2 Requisitos\n",
    "    Instalar o Selenium via prompt do Anaconda \"pip install selenium\"\n",
    "    Instalar o Webdriver Manager via prompt do Anaconda \"pip install webdriver-manager\""
   ]
  },
  {
   "cell_type": "code",
   "execution_count": null,
   "id": "a2dbfc94",
   "metadata": {},
   "outputs": [],
   "source": [
    "#\n",
    "\n",
    "#Passo1: entrar em https://pages.hashtagtreinamentos.com/inscricao-minicurso-python-automacao-org?origemurl=hashtag_yt_org_minipython_videoselenium\n",
    "#Passo2: Preencher nome, preencher e-amil\n",
    "#Passo3: Clicar no botão para enviar o formulário"
   ]
  },
  {
   "cell_type": "code",
   "execution_count": 9,
   "id": "2097df3a",
   "metadata": {},
   "outputs": [],
   "source": [
    "from selenium import webdriver\n",
    "from webdriver_manager.chrome import ChromeDriverManager\n",
    "from selenium.webdriver.chrome.service import Service\n",
    "from selenium.webdriver.common.by import By\n",
    "\n",
    "servico = Service(ChromeDriverManager().install())\n",
    "\n",
    "navegador = webdriver.Chrome(service=servico)\n",
    "\n",
    "#Passo 1:\n",
    "navegador.get(\"https://pages.hashtagtreinamentos.com/inscricao-minicurso-python-automacao-org?origemurl=hashtag_yt_org_minipython_videoselenium\")\n",
    "\n",
    "#Passo2:\n",
    "navegador.find_element(By.XPATH, '//*[@id=\"section-10356508\"]/section/div[2]/div/div[2]/form/div[1]/div/div[1]/div/input').send_keys(\"Seu Nome\")\n",
    "\n",
    "navegador.find_element(By.XPATH, '//*[@id=\"section-10356508\"]/section/div[2]/div/div[2]/form/div[1]/div/div[2]/div/input').send_keys(\"e-mail@gmail.com\")\n",
    "\n",
    "navegador.find_element(By.XPATH, '//*[@id=\"section-10356508\"]/section/div[2]/div/div[2]/form/div[1]/div/div[3]/div/input').send_keys(\"1198545-2784\")\n",
    "\n",
    "#Passo3:\n",
    "navegador.find_element(By.XPATH, '//*[@id=\"section-10356508\"]/section/div[2]/div/div[2]/form/button').click()"
   ]
  }
 ],
 "metadata": {
  "kernelspec": {
   "display_name": "Python 3 (ipykernel)",
   "language": "python",
   "name": "python3"
  },
  "language_info": {
   "codemirror_mode": {
    "name": "ipython",
    "version": 3
   },
   "file_extension": ".py",
   "mimetype": "text/x-python",
   "name": "python",
   "nbconvert_exporter": "python",
   "pygments_lexer": "ipython3",
   "version": "3.11.5"
  }
 },
 "nbformat": 4,
 "nbformat_minor": 5
}
